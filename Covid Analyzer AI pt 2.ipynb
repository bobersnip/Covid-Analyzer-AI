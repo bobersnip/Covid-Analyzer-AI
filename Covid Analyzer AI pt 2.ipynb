{
 "cells": [
  {
   "cell_type": "markdown",
   "metadata": {
    "nbpresent": {
     "id": "1d234e3f-af8b-4757-83f3-241b04b7a511"
    }
   },
   "source": [
    "# Class Challenge: Image Classification of COVID-19 X-rays\n",
    "# Task 2 [Total points: 30]"
   ]
  },
  {
   "cell_type": "markdown",
   "metadata": {
    "nbpresent": {
     "id": "b07b9992-b592-4871-9f9a-3b0ae5fa8b5f"
    }
   },
   "source": [
    "## Setup\n",
    "\n",
    "* This assignment involves the following packages: 'matplotlib', 'numpy', and 'sklearn'. \n",
    "\n",
    "* If you are using conda, use the following commands to install the above packages:<br>\n",
    "```shell\n",
    "conda install matplotlib\n",
    "conda install numpy\n",
    "conda install -c anaconda scikit-learn\n",
    "```\n",
    "\n",
    "* If you are using pip, use use the following commands to install the above packages: <br> \n",
    "```shell\n",
    "pip install matplotlib\n",
    "pip install numpy\n",
    "pip install sklearn\n",
    "```"
   ]
  },
  {
   "cell_type": "markdown",
   "metadata": {
    "nbpresent": {
     "id": "5516f610-f00c-43c3-bf19-4cf7ab9c089f"
    }
   },
   "source": [
    "## Data\n",
    "\n",
    "Please download the data using the following link: [COVID-19](https://drive.google.com/file/d/1Y88tgqpQ1Pjko_7rntcPowOJs_QNOrJ-/view). \n",
    "\n",
    "* After downloading 'Covid_Data_GradientCrescent.zip', unzip the file and you should see the following data structure:\n",
    "\n",
    "\n",
    "|--all<br>\n",
    "|--------train<br>\n",
    "|--------test<br>\n",
    "|--two<br>\n",
    "|--------train<br>\n",
    "|--------test<br>\n",
    "\n",
    "\n",
    "* Put the 'all' folder, the 'two' folder and this python notebook in the **same directory** so that the following code can correctly locate the data.  \n",
    "\n"
   ]
  },
  {
   "cell_type": "markdown",
   "metadata": {
    "nbpresent": {
     "id": "66140980-2aa4-457f-b1df-74c10c234cc2"
    }
   },
   "source": [
    "## [20 points] Multi-class Classification"
   ]
  },
  {
   "cell_type": "code",
   "execution_count": 2,
   "metadata": {
    "nbpresent": {
     "id": "5e05f980-3d14-4367-b3d1-664249145b13"
    },
    "scrolled": true
   },
   "outputs": [
    {
     "name": "stdout",
     "output_type": "stream",
     "text": [
      "Num GPUs Available:  1\n"
     ]
    }
   ],
   "source": [
    "import os\n",
    "\n",
    "import tensorflow as tf\n",
    "import numpy as np\n",
    "import matplotlib.pyplot as plt\n",
    "from tensorflow.keras.preprocessing.image import ImageDataGenerator\n",
    "\n",
    "config = tf.compat.v1.ConfigProto(gpu_options = \n",
    "                         tf.compat.v1.GPUOptions(per_process_gpu_memory_fraction=0.8)\n",
    "# device_count = {'GPU': 1}\n",
    ")\n",
    "config.gpu_options.allow_growth = True\n",
    "session = tf.compat.v1.Session(config=config)\n",
    "tf.compat.v1.keras.backend.set_session(session)\n",
    "TF_ENABLE_GPU_GARBAGE_COLLECTION=True\n",
    "\n",
    "os.environ['OMP_NUM_THREADS'] = '1'\n",
    "os.environ['CUDA_VISIBLE_DEVICES'] = '-1'\n",
    "tf.__version__\n",
    "\n",
    "print(\"Num GPUs Available: \", len(tf.config.experimental.list_physical_devices('GPU')))\n",
    "\n",
    "# from platform import python_version\n",
    "\n",
    "# print(python_version())"
   ]
  },
  {
   "cell_type": "markdown",
   "metadata": {
    "nbpresent": {
     "id": "66140980-2aa4-457f-b1df-74c10c234cc2"
    }
   },
   "source": [
    "#### Load Image Data"
   ]
  },
  {
   "cell_type": "code",
   "execution_count": 3,
   "metadata": {
    "nbpresent": {
     "id": "58317664-8da3-4283-b3e5-35721687e7ab"
    }
   },
   "outputs": [],
   "source": [
    "DATA_LIST = os.listdir('all/train')\n",
    "DATASET_PATH  = 'all/train'\n",
    "TEST_DIR =  'all/test'\n",
    "IMAGE_SIZE    = (224, 224)\n",
    "NUM_CLASSES   = len(DATA_LIST)\n",
    "BATCH_SIZE    = 10  # try reducing batch size or freeze more layers if your GPU runs out of memory\n",
    "NUM_EPOCHS    = 100\n",
    "LEARNING_RATE = 0.0013 # start off with high rate first 0.001 and experiment with reducing it gradually "
   ]
  },
  {
   "cell_type": "markdown",
   "metadata": {
    "nbpresent": {
     "id": "66140980-2aa4-457f-b1df-74c10c234cc2"
    }
   },
   "source": [
    "#### Generate Training and Validation Batches"
   ]
  },
  {
   "cell_type": "code",
   "execution_count": 4,
   "metadata": {
    "nbpresent": {
     "id": "71760e29-2b08-4259-93f1-ebe68cd74a6d"
    }
   },
   "outputs": [
    {
     "name": "stdout",
     "output_type": "stream",
     "text": [
      "Found 216 images belonging to 4 classes.\n",
      "Found 54 images belonging to 4 classes.\n"
     ]
    },
    {
     "name": "stderr",
     "output_type": "stream",
     "text": [
      "C:\\Users\\bober\\anaconda3\\lib\\site-packages\\keras_preprocessing\\image\\image_data_generator.py:342: UserWarning: This ImageDataGenerator specifies `zca_whitening` which overrides setting of`featurewise_std_normalization`.\n",
      "  warnings.warn('This ImageDataGenerator specifies '\n"
     ]
    }
   ],
   "source": [
    "train_datagen = ImageDataGenerator(rescale=1./255,rotation_range=50,featurewise_center = True,\n",
    "                                   featurewise_std_normalization = True,width_shift_range=0.2,\n",
    "                                   height_shift_range=0.2,shear_range=0.25,zoom_range=0.1,\n",
    "                                   zca_whitening = True,channel_shift_range = 20,\n",
    "                                   horizontal_flip = True,vertical_flip = True,\n",
    "                                   validation_split = 0.2,fill_mode='constant')\n",
    "\n",
    "\n",
    "train_batches = train_datagen.flow_from_directory(DATASET_PATH,target_size=IMAGE_SIZE,\n",
    "                                                  shuffle=True,batch_size=BATCH_SIZE,\n",
    "                                                  subset = \"training\",seed=42,\n",
    "                                                  class_mode=\"categorical\")\n",
    "\n",
    "valid_batches = train_datagen.flow_from_directory(DATASET_PATH,target_size=IMAGE_SIZE,\n",
    "                                                  shuffle=True,batch_size=BATCH_SIZE,\n",
    "                                                  subset = \"validation\",\n",
    "                                                  seed=42,class_mode=\"categorical\")"
   ]
  },
  {
   "cell_type": "markdown",
   "metadata": {
    "nbpresent": {
     "id": "66140980-2aa4-457f-b1df-74c10c234cc2"
    }
   },
   "source": [
    "#### [10 points] Build Model\n",
    "Hint: Starting from a pre-trained model typically helps performance on a new task, e.g. starting with weights obtained by training on ImageNet. "
   ]
  },
  {
   "cell_type": "code",
   "execution_count": 5,
   "metadata": {
    "nbpresent": {
     "id": "5c52eeb2-1092-4d45-9e16-02219c82cb5e"
    }
   },
   "outputs": [
    {
     "name": "stdout",
     "output_type": "stream",
     "text": [
      "Model: \"sequential\"\n",
      "_________________________________________________________________\n",
      "Layer (type)                 Output Shape              Param #   \n",
      "=================================================================\n",
      "vgg16 (Functional)           (None, 7, 7, 512)         14714688  \n",
      "_________________________________________________________________\n",
      "flatten (Flatten)            (None, 25088)             0         \n",
      "_________________________________________________________________\n",
      "dropout (Dropout)            (None, 25088)             0         \n",
      "_________________________________________________________________\n",
      "feature_dense (Dense)        (None, 256)               6422784   \n",
      "_________________________________________________________________\n",
      "dropout_1 (Dropout)          (None, 256)               0         \n",
      "_________________________________________________________________\n",
      "dense (Dense)                (None, 4)                 1028      \n",
      "=================================================================\n",
      "Total params: 21,138,500\n",
      "Trainable params: 21,138,500\n",
      "Non-trainable params: 0\n",
      "_________________________________________________________________\n"
     ]
    }
   ],
   "source": [
    "VGG16 = tf.keras.applications.VGG16(include_top=False, input_shape=(224,224,3), weights=\"imagenet\")\n",
    "# VGG19 = tf.keras.applications.VGG19(include_top=False, input_shape=(224,224,3), weights=\"imagenet\")\n",
    "# ResNet152V2 = tf.keras.applications.ResNet50(include_top=False, input_shape=(224,224,3), weights=\"imagenet\")\n",
    "\n",
    "model = tf.keras.models.Sequential([\n",
    "        \n",
    "        VGG16,\n",
    "#         VGG19,\n",
    "#         ResNet152V2,\n",
    "        tf.keras.layers.Flatten(),\n",
    "        tf.keras.layers.Dropout(0.2),\n",
    "        tf.keras.layers.Dense(256, activation='relu', name='feature_dense'),\n",
    "        tf.keras.layers.Dropout(0.15),\n",
    "        tf.keras.layers.Dense(4, activation='sigmoid')\n",
    "])\n",
    "\n",
    "model.summary()\n",
    "\n",
    "# build the model\n",
    "model.build(input_shape=(None, 224, 224))\n",
    "\n",
    "# compiling the model\n",
    "model.compile(optimizer=tf.keras.optimizers.Adadelta(learning_rate=LEARNING_RATE, rho=0.95, epsilon=1e-07),\n",
    "                loss=tf.keras.losses.CategoricalCrossentropy(from_logits=True),\n",
    "                metrics=['accuracy'])"
   ]
  },
  {
   "cell_type": "markdown",
   "metadata": {
    "nbpresent": {
     "id": "66140980-2aa4-457f-b1df-74c10c234cc2"
    }
   },
   "source": [
    "#### [5 points] Train Model"
   ]
  },
  {
   "cell_type": "code",
   "execution_count": 6,
   "metadata": {
    "nbpresent": {
     "id": "cdb90d24-6a23-4969-8138-f37e7050062d"
    },
    "scrolled": false
   },
   "outputs": [
    {
     "name": "stdout",
     "output_type": "stream",
     "text": [
      "22\n",
      "6\n"
     ]
    },
    {
     "name": "stderr",
     "output_type": "stream",
     "text": [
      "C:\\Users\\bober\\anaconda3\\lib\\site-packages\\keras_preprocessing\\image\\image_data_generator.py:720: UserWarning: This ImageDataGenerator specifies `featurewise_center`, but it hasn't been fit on any training data. Fit it first by calling `.fit(numpy_data)`.\n",
      "  warnings.warn('This ImageDataGenerator specifies '\n",
      "C:\\Users\\bober\\anaconda3\\lib\\site-packages\\keras_preprocessing\\image\\image_data_generator.py:739: UserWarning: This ImageDataGenerator specifies `zca_whitening`, but it hasn't been fit on any training data. Fit it first by calling `.fit(numpy_data)`.\n",
      "  warnings.warn('This ImageDataGenerator specifies '\n"
     ]
    },
    {
     "name": "stdout",
     "output_type": "stream",
     "text": [
      "Epoch 1/100\n"
     ]
    },
    {
     "name": "stderr",
     "output_type": "stream",
     "text": [
      "C:\\Users\\bober\\anaconda3\\lib\\site-packages\\tensorflow\\python\\keras\\backend.py:4947: UserWarning: \"`categorical_crossentropy` received `from_logits=True`, but the `output` argument was produced by a sigmoid or softmax activation and thus does not represent logits. Was this intended?\"\n",
      "  warnings.warn(\n"
     ]
    },
    {
     "name": "stdout",
     "output_type": "stream",
     "text": [
      "21/21 - 18s - loss: 1.4950 - accuracy: 0.2767 - val_loss: 1.4245 - val_accuracy: 0.2600\n",
      "Epoch 2/100\n",
      "21/21 - 6s - loss: 1.5213 - accuracy: 0.2233 - val_loss: 1.3567 - val_accuracy: 0.2600\n",
      "Epoch 3/100\n",
      "21/21 - 6s - loss: 1.4919 - accuracy: 0.2767 - val_loss: 1.3636 - val_accuracy: 0.3400\n",
      "Epoch 4/100\n",
      "21/21 - 6s - loss: 1.4030 - accuracy: 0.3350 - val_loss: 1.3567 - val_accuracy: 0.3200\n",
      "Epoch 5/100\n",
      "21/21 - 6s - loss: 1.4123 - accuracy: 0.2913 - val_loss: 1.2340 - val_accuracy: 0.6000\n",
      "Epoch 6/100\n",
      "21/21 - 6s - loss: 1.4292 - accuracy: 0.2864 - val_loss: 1.3180 - val_accuracy: 0.4200\n",
      "Epoch 7/100\n",
      "21/21 - 6s - loss: 1.4277 - accuracy: 0.2961 - val_loss: 1.3118 - val_accuracy: 0.3800\n",
      "Epoch 8/100\n",
      "21/21 - 6s - loss: 1.3628 - accuracy: 0.3204 - val_loss: 1.2575 - val_accuracy: 0.4800\n",
      "Epoch 9/100\n",
      "21/21 - 6s - loss: 1.3252 - accuracy: 0.4000 - val_loss: 1.2247 - val_accuracy: 0.4600\n",
      "Epoch 10/100\n",
      "21/21 - 6s - loss: 1.3294 - accuracy: 0.4190 - val_loss: 1.2291 - val_accuracy: 0.5200\n",
      "Epoch 11/100\n",
      "21/21 - 6s - loss: 1.3149 - accuracy: 0.3738 - val_loss: 1.1841 - val_accuracy: 0.4400\n",
      "Epoch 12/100\n",
      "21/21 - 6s - loss: 1.3117 - accuracy: 0.3981 - val_loss: 1.2113 - val_accuracy: 0.3800\n",
      "Epoch 13/100\n",
      "21/21 - 6s - loss: 1.2282 - accuracy: 0.4417 - val_loss: 1.1931 - val_accuracy: 0.4000\n",
      "Epoch 14/100\n",
      "21/21 - 6s - loss: 1.2405 - accuracy: 0.4320 - val_loss: 1.1453 - val_accuracy: 0.5400\n",
      "Epoch 15/100\n",
      "21/21 - 6s - loss: 1.2382 - accuracy: 0.4417 - val_loss: 1.1047 - val_accuracy: 0.4800\n",
      "Epoch 16/100\n",
      "21/21 - 6s - loss: 1.2106 - accuracy: 0.4660 - val_loss: 1.1335 - val_accuracy: 0.4800\n",
      "Epoch 17/100\n",
      "21/21 - 6s - loss: 1.1550 - accuracy: 0.5049 - val_loss: 1.1447 - val_accuracy: 0.5200\n",
      "Epoch 18/100\n",
      "21/21 - 6s - loss: 1.1705 - accuracy: 0.4320 - val_loss: 1.0965 - val_accuracy: 0.5800\n",
      "Epoch 19/100\n",
      "21/21 - 6s - loss: 1.1801 - accuracy: 0.4806 - val_loss: 1.0734 - val_accuracy: 0.5400\n",
      "Epoch 20/100\n",
      "21/21 - 6s - loss: 1.1564 - accuracy: 0.4757 - val_loss: 0.9991 - val_accuracy: 0.5800\n",
      "Epoch 21/100\n",
      "21/21 - 6s - loss: 1.0663 - accuracy: 0.5243 - val_loss: 0.9290 - val_accuracy: 0.5600\n",
      "Epoch 22/100\n",
      "21/21 - 6s - loss: 1.1439 - accuracy: 0.4667 - val_loss: 1.0184 - val_accuracy: 0.4000\n",
      "Epoch 23/100\n",
      "21/21 - 6s - loss: 1.0151 - accuracy: 0.5291 - val_loss: 0.9601 - val_accuracy: 0.6200\n",
      "Epoch 24/100\n",
      "21/21 - 6s - loss: 1.0901 - accuracy: 0.4903 - val_loss: 0.8875 - val_accuracy: 0.6400\n",
      "Epoch 25/100\n",
      "21/21 - 6s - loss: 1.0585 - accuracy: 0.5243 - val_loss: 0.9144 - val_accuracy: 0.5800\n",
      "Epoch 26/100\n",
      "21/21 - 6s - loss: 1.0241 - accuracy: 0.5340 - val_loss: 0.8834 - val_accuracy: 0.6200\n",
      "Epoch 27/100\n",
      "21/21 - 6s - loss: 1.0936 - accuracy: 0.5049 - val_loss: 0.9424 - val_accuracy: 0.5400\n",
      "Epoch 28/100\n",
      "21/21 - 6s - loss: 1.0197 - accuracy: 0.5728 - val_loss: 0.8738 - val_accuracy: 0.5800\n",
      "Epoch 29/100\n",
      "21/21 - 6s - loss: 0.9838 - accuracy: 0.5340 - val_loss: 1.0453 - val_accuracy: 0.5000\n",
      "Epoch 30/100\n",
      "21/21 - 6s - loss: 0.9901 - accuracy: 0.5437 - val_loss: 0.8814 - val_accuracy: 0.6000\n",
      "Epoch 31/100\n",
      "21/21 - 6s - loss: 0.9162 - accuracy: 0.5922 - val_loss: 0.8587 - val_accuracy: 0.6000\n",
      "Epoch 32/100\n",
      "21/21 - 6s - loss: 1.0046 - accuracy: 0.5243 - val_loss: 0.7886 - val_accuracy: 0.7400\n",
      "Epoch 33/100\n",
      "21/21 - 6s - loss: 0.9439 - accuracy: 0.5485 - val_loss: 0.9037 - val_accuracy: 0.5400\n",
      "Epoch 34/100\n",
      "21/21 - 7s - loss: 0.9364 - accuracy: 0.5728 - val_loss: 0.8613 - val_accuracy: 0.5200\n",
      "Epoch 35/100\n",
      "21/21 - 6s - loss: 0.9045 - accuracy: 0.6068 - val_loss: 0.7694 - val_accuracy: 0.6000\n",
      "Epoch 36/100\n",
      "21/21 - 6s - loss: 0.9655 - accuracy: 0.5728 - val_loss: 0.7770 - val_accuracy: 0.6200\n",
      "Epoch 37/100\n",
      "21/21 - 6s - loss: 0.9124 - accuracy: 0.6311 - val_loss: 0.8835 - val_accuracy: 0.5200\n",
      "Epoch 38/100\n",
      "21/21 - 6s - loss: 0.8612 - accuracy: 0.6699 - val_loss: 0.8283 - val_accuracy: 0.6400\n",
      "Epoch 39/100\n",
      "21/21 - 6s - loss: 0.8774 - accuracy: 0.6019 - val_loss: 0.8254 - val_accuracy: 0.5800\n",
      "Epoch 40/100\n",
      "21/21 - 6s - loss: 0.8901 - accuracy: 0.6359 - val_loss: 0.7654 - val_accuracy: 0.7200\n",
      "Epoch 41/100\n",
      "21/21 - 6s - loss: 0.8958 - accuracy: 0.5971 - val_loss: 0.7814 - val_accuracy: 0.6400\n",
      "Epoch 42/100\n",
      "21/21 - 6s - loss: 0.8781 - accuracy: 0.6553 - val_loss: 0.7616 - val_accuracy: 0.7200\n",
      "Epoch 43/100\n",
      "21/21 - 6s - loss: 0.9046 - accuracy: 0.6019 - val_loss: 0.7670 - val_accuracy: 0.6800\n",
      "Epoch 44/100\n",
      "21/21 - 7s - loss: 0.9034 - accuracy: 0.5922 - val_loss: 0.7546 - val_accuracy: 0.6800\n",
      "Epoch 45/100\n",
      "21/21 - 6s - loss: 0.8761 - accuracy: 0.5971 - val_loss: 0.7715 - val_accuracy: 0.5800\n",
      "Epoch 46/100\n",
      "21/21 - 6s - loss: 0.7893 - accuracy: 0.6699 - val_loss: 0.7822 - val_accuracy: 0.6000\n",
      "Epoch 47/100\n",
      "21/21 - 6s - loss: 0.8618 - accuracy: 0.6311 - val_loss: 0.6966 - val_accuracy: 0.6800\n",
      "Epoch 48/100\n",
      "21/21 - 6s - loss: 0.8041 - accuracy: 0.6505 - val_loss: 0.7512 - val_accuracy: 0.6000\n",
      "Epoch 49/100\n",
      "21/21 - 7s - loss: 0.8285 - accuracy: 0.6165 - val_loss: 0.7213 - val_accuracy: 0.6400\n",
      "Epoch 50/100\n",
      "21/21 - 6s - loss: 0.8311 - accuracy: 0.6408 - val_loss: 0.7565 - val_accuracy: 0.6000\n",
      "Epoch 51/100\n",
      "21/21 - 7s - loss: 0.7702 - accuracy: 0.6505 - val_loss: 0.7255 - val_accuracy: 0.6200\n",
      "Epoch 52/100\n",
      "21/21 - 7s - loss: 0.8105 - accuracy: 0.6505 - val_loss: 0.7405 - val_accuracy: 0.6800\n",
      "Epoch 53/100\n",
      "21/21 - 7s - loss: 0.7641 - accuracy: 0.6748 - val_loss: 0.6992 - val_accuracy: 0.7000\n",
      "Epoch 54/100\n",
      "21/21 - 7s - loss: 0.8199 - accuracy: 0.6796 - val_loss: 0.6325 - val_accuracy: 0.7000\n",
      "Epoch 55/100\n",
      "21/21 - 6s - loss: 0.7821 - accuracy: 0.6553 - val_loss: 0.6866 - val_accuracy: 0.6800\n",
      "Epoch 56/100\n",
      "21/21 - 6s - loss: 0.7540 - accuracy: 0.6456 - val_loss: 0.6970 - val_accuracy: 0.6800\n",
      "Epoch 57/100\n",
      "21/21 - 7s - loss: 0.7633 - accuracy: 0.6456 - val_loss: 0.7076 - val_accuracy: 0.6400\n",
      "Epoch 58/100\n",
      "21/21 - 7s - loss: 0.7834 - accuracy: 0.6619 - val_loss: 0.7071 - val_accuracy: 0.7000\n",
      "Epoch 59/100\n",
      "21/21 - 7s - loss: 0.7537 - accuracy: 0.6942 - val_loss: 0.6954 - val_accuracy: 0.6400\n",
      "Epoch 60/100\n",
      "21/21 - 7s - loss: 0.8081 - accuracy: 0.6602 - val_loss: 0.6374 - val_accuracy: 0.7000\n",
      "Epoch 61/100\n",
      "21/21 - 7s - loss: 0.7596 - accuracy: 0.6456 - val_loss: 0.6391 - val_accuracy: 0.7000\n",
      "Epoch 62/100\n",
      "21/21 - 7s - loss: 0.7635 - accuracy: 0.6553 - val_loss: 0.5647 - val_accuracy: 0.7200\n",
      "Epoch 63/100\n",
      "21/21 - 7s - loss: 0.7700 - accuracy: 0.6359 - val_loss: 0.6148 - val_accuracy: 0.8000\n",
      "Epoch 64/100\n",
      "21/21 - 7s - loss: 0.7165 - accuracy: 0.6748 - val_loss: 0.5831 - val_accuracy: 0.7200\n",
      "Epoch 65/100\n",
      "21/21 - 7s - loss: 0.7834 - accuracy: 0.6553 - val_loss: 0.6220 - val_accuracy: 0.7200\n",
      "Epoch 66/100\n",
      "21/21 - 7s - loss: 0.6813 - accuracy: 0.7136 - val_loss: 0.6755 - val_accuracy: 0.6400\n",
      "Epoch 67/100\n",
      "21/21 - 7s - loss: 0.7184 - accuracy: 0.6893 - val_loss: 0.6097 - val_accuracy: 0.6000\n",
      "Epoch 68/100\n",
      "21/21 - 7s - loss: 0.7201 - accuracy: 0.7039 - val_loss: 0.6346 - val_accuracy: 0.6400\n",
      "Epoch 69/100\n",
      "21/21 - 7s - loss: 0.7563 - accuracy: 0.6748 - val_loss: 0.6777 - val_accuracy: 0.6400\n",
      "Epoch 70/100\n",
      "21/21 - 7s - loss: 0.7155 - accuracy: 0.7039 - val_loss: 0.5983 - val_accuracy: 0.6800\n",
      "Epoch 71/100\n",
      "21/21 - 7s - loss: 0.7002 - accuracy: 0.6942 - val_loss: 0.6278 - val_accuracy: 0.7200\n",
      "Epoch 72/100\n",
      "21/21 - 7s - loss: 0.6740 - accuracy: 0.7039 - val_loss: 0.5916 - val_accuracy: 0.7000\n",
      "Epoch 73/100\n",
      "21/21 - 7s - loss: 0.7233 - accuracy: 0.6602 - val_loss: 0.6066 - val_accuracy: 0.7000\n",
      "Epoch 74/100\n",
      "21/21 - 7s - loss: 0.6729 - accuracy: 0.7330 - val_loss: 0.5021 - val_accuracy: 0.7800\n",
      "Epoch 75/100\n",
      "21/21 - 7s - loss: 0.6953 - accuracy: 0.6990 - val_loss: 0.5984 - val_accuracy: 0.7200\n",
      "Epoch 76/100\n",
      "21/21 - 7s - loss: 0.6948 - accuracy: 0.7136 - val_loss: 0.5779 - val_accuracy: 0.7600\n",
      "Epoch 77/100\n",
      "21/21 - 7s - loss: 0.6812 - accuracy: 0.7184 - val_loss: 0.5465 - val_accuracy: 0.6800\n",
      "Epoch 78/100\n",
      "21/21 - 7s - loss: 0.6673 - accuracy: 0.6893 - val_loss: 0.6694 - val_accuracy: 0.6600\n",
      "Epoch 79/100\n",
      "21/21 - 7s - loss: 0.6704 - accuracy: 0.7136 - val_loss: 0.5659 - val_accuracy: 0.7400\n",
      "Epoch 80/100\n",
      "21/21 - 7s - loss: 0.7723 - accuracy: 0.6699 - val_loss: 0.5174 - val_accuracy: 0.7800\n",
      "Epoch 81/100\n",
      "21/21 - 7s - loss: 0.6867 - accuracy: 0.7087 - val_loss: 0.6442 - val_accuracy: 0.7400\n",
      "Epoch 82/100\n",
      "21/21 - 6s - loss: 0.6850 - accuracy: 0.6796 - val_loss: 0.6127 - val_accuracy: 0.6800\n",
      "Epoch 83/100\n"
     ]
    },
    {
     "name": "stdout",
     "output_type": "stream",
     "text": [
      "21/21 - 7s - loss: 0.6662 - accuracy: 0.7095 - val_loss: 0.5436 - val_accuracy: 0.8200\n",
      "Epoch 84/100\n",
      "21/21 - 7s - loss: 0.7007 - accuracy: 0.6845 - val_loss: 0.6298 - val_accuracy: 0.7400\n",
      "Epoch 85/100\n",
      "21/21 - 7s - loss: 0.6436 - accuracy: 0.7476 - val_loss: 0.5451 - val_accuracy: 0.7200\n",
      "Epoch 86/100\n",
      "21/21 - 7s - loss: 0.6174 - accuracy: 0.7573 - val_loss: 0.6069 - val_accuracy: 0.6800\n",
      "Epoch 87/100\n",
      "21/21 - 7s - loss: 0.6468 - accuracy: 0.7233 - val_loss: 0.5322 - val_accuracy: 0.7000\n",
      "Epoch 88/100\n",
      "21/21 - 7s - loss: 0.6604 - accuracy: 0.7184 - val_loss: 0.5556 - val_accuracy: 0.7600\n",
      "Epoch 89/100\n",
      "21/21 - 7s - loss: 0.6608 - accuracy: 0.7136 - val_loss: 0.5279 - val_accuracy: 0.7400\n",
      "Epoch 90/100\n",
      "21/21 - 7s - loss: 0.6921 - accuracy: 0.6893 - val_loss: 0.5990 - val_accuracy: 0.6800\n",
      "Epoch 91/100\n",
      "21/21 - 7s - loss: 0.6676 - accuracy: 0.7381 - val_loss: 0.4945 - val_accuracy: 0.8000\n",
      "Epoch 92/100\n",
      "21/21 - 7s - loss: 0.6811 - accuracy: 0.7136 - val_loss: 0.5256 - val_accuracy: 0.7000\n",
      "Epoch 93/100\n",
      "21/21 - 7s - loss: 0.7099 - accuracy: 0.6748 - val_loss: 0.5840 - val_accuracy: 0.7000\n",
      "Epoch 94/100\n",
      "21/21 - 7s - loss: 0.6185 - accuracy: 0.7330 - val_loss: 0.6157 - val_accuracy: 0.7200\n",
      "Epoch 95/100\n",
      "21/21 - 7s - loss: 0.6018 - accuracy: 0.7476 - val_loss: 0.6542 - val_accuracy: 0.6000\n",
      "Epoch 96/100\n",
      "21/21 - 7s - loss: 0.6759 - accuracy: 0.7233 - val_loss: 0.5989 - val_accuracy: 0.7600\n",
      "Epoch 97/100\n",
      "21/21 - 7s - loss: 0.6437 - accuracy: 0.7379 - val_loss: 0.6972 - val_accuracy: 0.6400\n",
      "Epoch 98/100\n",
      "21/21 - 7s - loss: 0.6085 - accuracy: 0.7233 - val_loss: 0.5539 - val_accuracy: 0.7000\n",
      "Epoch 99/100\n",
      "21/21 - 7s - loss: 0.6029 - accuracy: 0.7087 - val_loss: 0.5522 - val_accuracy: 0.6600\n",
      "Epoch 100/100\n",
      "21/21 - 7s - loss: 0.6344 - accuracy: 0.7087 - val_loss: 0.6341 - val_accuracy: 0.6800\n"
     ]
    }
   ],
   "source": [
    "#FIT MODEL\n",
    "print(len(train_batches))\n",
    "print(len(valid_batches))\n",
    "\n",
    "STEP_SIZE_TRAIN=train_batches.n//train_batches.batch_size\n",
    "STEP_SIZE_VALID=valid_batches.n//valid_batches.batch_size\n",
    "\n",
    "# raise NotImplementedError(\"Use the model.fit function to train your network\")\n",
    "\n",
    "history = model.fit(train_batches,  \n",
    "                    epochs=NUM_EPOCHS, \n",
    "                    verbose=2, \n",
    "                    validation_data=valid_batches, \n",
    "                    steps_per_epoch=STEP_SIZE_TRAIN, \n",
    "                    validation_steps=STEP_SIZE_VALID\n",
    "                   )"
   ]
  },
  {
   "cell_type": "markdown",
   "metadata": {
    "nbpresent": {
     "id": "66140980-2aa4-457f-b1df-74c10c234cc2"
    }
   },
   "source": [
    "#### [5 points] Plot Accuracy and Loss During Training"
   ]
  },
  {
   "cell_type": "code",
   "execution_count": 10,
   "metadata": {
    "nbpresent": {
     "id": "ff342098-784a-4e20-ac34-b74ca8ebe839"
    }
   },
   "outputs": [
    {
     "data": {
      "image/png": "[encoded data removed]",
      "text/plain": [
       "<Figure size 432x288 with 1 Axes>"
      ]
     },
     "metadata": {
      "needs_background": "light"
     },
     "output_type": "display_data"
    },
    {
     "data": {
      "image/png": "[encoded data removed]",
      "text/plain": [
       "<Figure size 432x288 with 1 Axes>"
      ]
     },
     "metadata": {
      "needs_background": "light"
     },
     "output_type": "display_data"
    }
   ],
   "source": [
    "import matplotlib.pyplot as plt\n",
    "\n",
    "# plot for the Acurracy vs Epochs\n",
    "plt.title('Accuracy over 100 Epochs')\n",
    "plt.plot(history.history['accuracy'], label='accuracy')\n",
    "plt.plot(history.history['val_accuracy'], label = 'validation accuracy')\n",
    "plt.xlabel('Epoch')\n",
    "plt.ylabel('Accuracy')\n",
    "plt.ylim([0.1, .8])\n",
    "plt.legend(loc='lower right')\n",
    "plt.show()\n",
    "\n",
    "# plot for the Loss vs Epochs\n",
    "plt.title('Loss over 100 Epochs')\n",
    "plt.plot(history.history['loss'], label='loss')\n",
    "plt.plot(history.history['val_loss'], label = 'validation loss')\n",
    "plt.xlabel('Epoch')\n",
    "plt.ylabel('Loss')\n",
    "plt.ylim([0.5, 1.7])\n",
    "plt.legend(loc='lower right')\n",
    "plt.show()"
   ]
  },
  {
   "cell_type": "markdown",
   "metadata": {
    "nbpresent": {
     "id": "66140980-2aa4-457f-b1df-74c10c234cc2"
    }
   },
   "source": [
    "#### Testing Model"
   ]
  },
  {
   "cell_type": "code",
   "execution_count": 11,
   "metadata": {},
   "outputs": [
    {
     "name": "stdout",
     "output_type": "stream",
     "text": [
      "Found 36 images belonging to 4 classes.\n",
      "36\n",
      " 5/36 [===>..........................] - ETA: 0s - loss: 1.0074 - accuracy: 0.6000    "
     ]
    },
    {
     "name": "stderr",
     "output_type": "stream",
     "text": [
      "C:\\Users\\bober\\anaconda3\\lib\\site-packages\\tensorflow\\python\\keras\\engine\\training.py:1909: UserWarning: `Model.evaluate_generator` is deprecated and will be removed in a future version. Please use `Model.evaluate`, which supports generators.\n",
      "  warnings.warn('`Model.evaluate_generator` is deprecated and '\n"
     ]
    },
    {
     "name": "stdout",
     "output_type": "stream",
     "text": [
      "36/36 [==============================] - 1s 23ms/step - loss: 0.6709 - accuracy: 0.6944\n",
      "Test loss: 0.670887291431427\n",
      "Test accuracy: 0.6944444179534912\n"
     ]
    }
   ],
   "source": [
    "test_datagen = ImageDataGenerator(rescale=1. / 255)\n",
    "\n",
    "eval_generator = test_datagen.flow_from_directory(TEST_DIR,target_size=IMAGE_SIZE,\n",
    "                                                  batch_size=1,shuffle=True,seed=42,class_mode=\"categorical\")\n",
    "eval_generator.reset()\n",
    "print(len(eval_generator))\n",
    "x = model.evaluate_generator(eval_generator,steps = np.ceil(len(eval_generator)),\n",
    "                           use_multiprocessing = False,verbose = 1,workers=1)\n",
    "print('Test loss:' , x[0])\n",
    "print('Test accuracy:',x[1])"
   ]
  },
  {
   "cell_type": "markdown",
   "metadata": {
    "nbpresent": {
     "id": "66140980-2aa4-457f-b1df-74c10c234cc2"
    }
   },
   "source": [
    "## [10 points] TSNE Plot\n",
    "t-Distributed Stochastic Neighbor Embedding (t-SNE) is a widely used technique for dimensionality reduction that is particularly well suited for the visualization of high-dimensional datasets. After training is complete, extract features from a specific deep layer of your choice, use t-SNE to reduce the dimensionality of your extracted features to 2 dimensions and plot the resulting 2D features."
   ]
  },
  {
   "cell_type": "code",
   "execution_count": 9,
   "metadata": {},
   "outputs": [
    {
     "name": "stdout",
     "output_type": "stream",
     "text": [
      "Found 270 images belonging to 4 classes.\n"
     ]
    },
    {
     "name": "stderr",
     "output_type": "stream",
     "text": [
      "C:\\Users\\bober\\anaconda3\\lib\\site-packages\\tensorflow\\python\\keras\\engine\\training.py:1937: UserWarning: `Model.predict_generator` is deprecated and will be removed in a future version. Please use `Model.predict`, which supports generators.\n",
      "  warnings.warn('`Model.predict_generator` is deprecated and '\n"
     ]
    },
    {
     "name": "stdout",
     "output_type": "stream",
     "text": [
      "130/130 [==============================] - 3s 18ms/step\n"
     ]
    },
    {
     "data": {
      "image/png": "[encoded data removed]",
      "text/plain": [
       "<Figure size 576x432 with 1 Axes>"
      ]
     },
     "metadata": {
      "needs_background": "light"
     },
     "output_type": "display_data"
    }
   ],
   "source": [
    "from sklearn.manifold import TSNE\n",
    "\n",
    "intermediate_layer_model = tf.keras.models.Model(inputs=model.input, outputs=model.get_layer('feature_dense').output)\n",
    "\n",
    "tsne_eval_generator = test_datagen.flow_from_directory(DATASET_PATH,target_size=IMAGE_SIZE,\n",
    "                                                  batch_size=1,shuffle=True,seed=42,class_mode=\"categorical\")\n",
    "\n",
    "# raise NotImplementedError(\"Extract features from the tsne_data_generator and fit a t-SNE model for the features,\"\n",
    "#                           \"and plot the resulting 2D features of the four classes.\")\n",
    "\n",
    "labels = []\n",
    "\n",
    "# for x in range(len(tsne_eval_generator)):\n",
    "#     labels += [tsne_eval_generator[x][1][0]]\n",
    "    \n",
    "# print(labels)\n",
    "# print(tsne_eval_generator[1][1][0][3])\n",
    "\n",
    "for x in range(len(tsne_eval_generator)):\n",
    "    if tsne_eval_generator[x][1][0][0] == [1.]:\n",
    "        labels += ['red']\n",
    "    elif tsne_eval_generator[x][1][0][1] == [1.]:\n",
    "        labels += ['blue']\n",
    "    elif tsne_eval_generator[x][1][0][2] == [1.]:\n",
    "        labels += ['green']\n",
    "    elif tsne_eval_generator[x][1][0][3] == [1.]:\n",
    "        labels += ['orange']\n",
    "        \n",
    "# print(labels)\n",
    "\n",
    "pred_intermediate = intermediate_layer_model.predict_generator(tsne_eval_generator,130,verbose=1)\n",
    "\n",
    "    \n",
    "features = TSNE(n_components=2).fit_transform(pred_intermediate)\n",
    "features_sub1 = features[:,0]\n",
    "# print(features_sub1)\n",
    "features_sub2 = features[:,1]\n",
    "# print(features_sub2)\n",
    "\n",
    "covid_x = []\n",
    "covid_y = []\n",
    "\n",
    "norm_x = []\n",
    "norm_y = []\n",
    "\n",
    "bact_x = []\n",
    "bact_y = []\n",
    "\n",
    "viral_x = []\n",
    "viral_y = []\n",
    "\n",
    "for i in range(len(features_sub1)):\n",
    "    if labels[i] == 'red':\n",
    "        covid_x += [features_sub1[i]]\n",
    "        covid_y += [features_sub2[i]]\n",
    "    if labels[i] == 'blue':\n",
    "        norm_x += [features_sub1[i]]\n",
    "        norm_y += [features_sub2[i]]\n",
    "    if labels[i] == 'green':\n",
    "        bact_x += [features_sub1[i]]\n",
    "        bact_y += [features_sub2[i]]\n",
    "    if labels[i] == 'orange':\n",
    "        viral_x += [features_sub1[i]]\n",
    "        viral_y += [features_sub2[i]]\n",
    "    \n",
    "# print(features)\n",
    "plt.figure(figsize=(8,6))\n",
    "plt.scatter(covid_x, covid_y, c='red')\n",
    "plt.scatter(norm_x, norm_y, c='blue')\n",
    "plt.scatter(bact_x, bact_y, c='green')\n",
    "plt.scatter(viral_x, viral_y, c='orange')\n",
    "plt.ylim([-15, 12])\n",
    "plt.xlim([-15, 12])\n",
    "# plt.legend()\n",
    "plt.legend(labels=('Red = COVID19 Pneumonia', 'Blue = Normal', 'Green = Pneumonia-Bacterial', 'Orange = Pneumonia-Viral'),\n",
    "                                                                                    loc='best')    \n",
    "            \n",
    "plt.show()"
   ]
  },
  {
   "cell_type": "markdown",
   "metadata": {},
   "source": [
    "<!-- ## Task 2: COVID-19 vs Normal vs Tertiary Pneumonia (Bacterial and Viral) -->"
   ]
  },
  {
   "cell_type": "markdown",
   "metadata": {
    "nbpresent": {
     "id": "66140980-2aa4-457f-b1df-74c10c234cc2"
    }
   },
   "source": [
    "<!-- #### Renew Training Batch and Validation Batch -->"
   ]
  },
  {
   "cell_type": "markdown",
   "metadata": {
    "nbpresent": {
     "id": "66140980-2aa4-457f-b1df-74c10c234cc2"
    }
   },
   "source": [
    "<!-- #### Renew Model -->"
   ]
  }
 ],
 "metadata": {
  "kernelspec": {
   "display_name": "Python 3",
   "language": "python",
   "name": "python3"
  },
  "language_info": {
   "codemirror_mode": {
    "name": "ipython",
    "version": 3
   },
   "file_extension": ".py",
   "mimetype": "text/x-python",
   "name": "python",
   "nbconvert_exporter": "python",
   "pygments_lexer": "ipython3",
   "version": "3.8.3"
  },
  "latex_envs": {
   "LaTeX_envs_menu_present": true,
   "autoclose": false,
   "autocomplete": true,
   "bibliofile": "biblio.bib",
   "cite_by": "apalike",
   "current_citInitial": 1,
   "eqLabelWithNumbers": true,
   "eqNumInitial": 1,
   "hotkeys": {
    "equation": "Ctrl-E",
    "itemize": "Ctrl-I"
   },
   "labels_anchors": false,
   "latex_user_defs": false,
   "report_style_numbering": false,
   "user_envs_cfg": false
  },
  "toc": {
   "base_numbering": 1,
   "nav_menu": {},
   "number_sections": true,
   "sideBar": true,
   "skip_h1_title": false,
   "title_cell": "Table of Contents",
   "title_sidebar": "Contents",
   "toc_cell": false,
   "toc_position": {},
   "toc_section_display": true,
   "toc_window_display": false
  },
  "varInspector": {
   "cols": {
    "lenName": 16,
    "lenType": 16,
    "lenVar": 40
   },
   "kernels_config": {
    "python": {
     "delete_cmd_postfix": "",
     "delete_cmd_prefix": "del ",
     "library": "var_list.py",
     "varRefreshCmd": "print(var_dic_list())"
    },
    "r": {
     "delete_cmd_postfix": ") ",
     "delete_cmd_prefix": "rm(",
     "library": "var_list.r",
     "varRefreshCmd": "cat(var_dic_list()) "
    }
   },
   "types_to_exclude": [
    "module",
    "function",
    "builtin_function_or_method",
    "instance",
    "_Feature"
   ],
   "window_display": false
  }
 },
 "nbformat": 4,
 "nbformat_minor": 4
}
